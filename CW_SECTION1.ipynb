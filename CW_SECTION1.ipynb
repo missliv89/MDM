{
 "cells": [
  {
   "cell_type": "code",
   "execution_count": 98,
   "metadata": {},
   "outputs": [],
   "source": [
    "import numpy as np\n",
    "from scipy.integrate import odeint\n",
    "import matplotlib.pyplot as plt\n",
    "import math\n",
    "from math import log\n",
    "from datetime import datetime"
   ]
  },
  {
   "cell_type": "code",
   "execution_count": 2,
   "metadata": {},
   "outputs": [],
   "source": [
    "# function we want to integrate\n",
    "def f(t,x):\n",
    "    dxdt=x\n",
    "    return dxdt"
   ]
  },
  {
   "cell_type": "code",
   "execution_count": 24,
   "metadata": {},
   "outputs": [],
   "source": [
    "#euler step function\n",
    "def euler_step(func, xn,tn,h): \n",
    "    xn_1 = xn + h*f(tn, xn)\n",
    "    tn_1 = tn + h\n",
    "    return np.array((tn_1, xn_1))"
   ]
  },
  {
   "cell_type": "code",
   "execution_count": 25,
   "metadata": {},
   "outputs": [],
   "source": [
    "# RK4 Method\n",
    "def RK4(func, xn, tn,h):\n",
    "    k1= func(tn, xn)\n",
    "    k2= func(tn+h/2, xn+h*(k1/2))\n",
    "    k3= func(tn+h/2, xn+h*(k2/2))\n",
    "    k4= func(tn+h, xn+h*k3)\n",
    "    xn_1 = xn + h*(k1+2*(k2+k3) +k4)/6\n",
    "    tn_1 = tn + h\n",
    "    return np.array((tn_1, xn_1))"
   ]
  },
  {
   "cell_type": "code",
   "execution_count": 22,
   "metadata": {},
   "outputs": [],
   "source": [
    "# #POTENTIALLY REMOVE\n",
    "# def solve_to(step_function, func, x1, t1, t2, hmax):\n",
    "#     t=t1\n",
    "#     x=x1\n",
    "#     N=math.ceil((t2-t1)/hmax)\n",
    "    \n",
    "#     for i in range(N-1):\n",
    "#         x = step_function(func, x, t, hmax)\n",
    "#         t += hmax\n",
    "#         i += 1\n",
    "    \n",
    "#     if t < t2:\n",
    "#         hmax = t2-t\n",
    "#         x = step_function(func, x, t, hmax)\n",
    "#         t=t2\n",
    "#     return np.array((t,x))"
   ]
  },
  {
   "cell_type": "code",
   "execution_count": 26,
   "metadata": {},
   "outputs": [],
   "source": [
    "#lets user select whether to use euler or RK4 wrapped in variable step_fun\n",
    "def solve_to(step_fun, func, x1, t1, t2, hmax):\n",
    "    t=t1\n",
    "    x=x1\n",
    "    sol=np.array([t,x], ndmin=2)\n",
    "    while t != t2:\n",
    "        if (t2-t) >= hmax:\n",
    "            result = step_fun(func, x, t, hmax)\n",
    "        else:\n",
    "            result = step_fun(func, x, t, (t2-t))\n",
    "        t = result[0]\n",
    "        x = result[1]\n",
    "        sol = np.append(sol, [result], axis=0)\n",
    "        \n",
    "    return sol  "
   ]
  },
  {
   "cell_type": "code",
   "execution_count": 27,
   "metadata": {},
   "outputs": [
    {
     "data": {
      "text/plain": [
       "array([[0.    , 1.    ],\n",
       "       [0.3   , 1.3   ],\n",
       "       [0.6   , 1.69  ],\n",
       "       [0.9   , 2.197 ],\n",
       "       [1.    , 2.4167]])"
      ]
     },
     "execution_count": 27,
     "metadata": {},
     "output_type": "execute_result"
    }
   ],
   "source": [
    "solve_to(euler_step, f, 1, 0, 1, 0.3)"
   ]
  },
  {
   "cell_type": "code",
   "execution_count": null,
   "metadata": {},
   "outputs": [],
   "source": [
    "# #step function is either RK4 or euler \n",
    "# def solve_ode(step_fun, func, x0, t0, tf, hmax):\n",
    "#     N=math.ceil((tf-t0)/hmax)\n",
    "#     t=np.linspace(t0, tf, N+1)\n",
    "#     #array to store solution at each time step\n",
    "#     X=np.zeros(N+1)\n",
    "#     X[0]=x0\n",
    "#     t[0]=t0\n",
    "    \n",
    "#     for i in range (N):\n",
    "#         X[i+1] = solve_to(step_fun, func, X[i], t[i], t[i+1], hmax)[1]\n",
    "#         t[i+1] = solve_to(step_fun, func, X[i], t[i], t[i+1], hmax)[0]\n",
    "#     return np.array((t, X))"
   ]
  },
  {
   "cell_type": "code",
   "execution_count": 28,
   "metadata": {},
   "outputs": [],
   "source": [
    "def solve_ode(step_function, func, x0, t0, tf, hmax):\n",
    "    sol = solve_to(step_fun, func, x0, t0, tf, hmax)\n",
    "    return sol"
   ]
  },
  {
   "cell_type": "code",
   "execution_count": 29,
   "metadata": {},
   "outputs": [
    {
     "name": "stdout",
     "output_type": "stream",
     "text": [
      "Please enter 'a' for Euler method or 'b' for Runge-Kutta method: \n",
      "a\n"
     ]
    }
   ],
   "source": [
    "print(\"Please enter 'a' for Euler method or 'b' for Runge-Kutta method: \")\n",
    "answer=input()"
   ]
  },
  {
   "cell_type": "code",
   "execution_count": 30,
   "metadata": {},
   "outputs": [
    {
     "name": "stdout",
     "output_type": "stream",
     "text": [
      "Please enter max step size: \n",
      "0.25\n"
     ]
    }
   ],
   "source": [
    "print(\"Please enter max step size: \")\n",
    "hmax=float(input())"
   ]
  },
  {
   "cell_type": "code",
   "execution_count": 63,
   "metadata": {},
   "outputs": [
    {
     "name": "stdout",
     "output_type": "stream",
     "text": [
      "[ 1.          1.25        1.5625      1.953125    2.44140625  3.05175781\n",
      "  3.81469727  4.76837158  5.96046448  7.4505806   9.31322575 11.64153218\n",
      " 14.55191523 18.18989404 22.73736754 28.42170943 35.52713679 44.40892099\n",
      " 55.51115123 69.38893904 86.7361738 ]\n"
     ]
    }
   ],
   "source": [
    "t0=0\n",
    "tf=5\n",
    "x0=1\n",
    "if answer==\"a\":\n",
    "    step_fun=euler_step\n",
    "    sol=solve_ode(step_fun, f, x0, t0, tf, hmax)\n",
    "if answer==\"b\":\n",
    "    step_fun=RK4\n",
    "    sol=solve_ode(step_fun, f, x0, t0, tf, hmax)\n",
    "\n",
    "t=sol[:,0]\n",
    "x=sol[:,1]\n",
    "print(x)\n",
    "\n",
    "#check these values of x- i don't think they're correct"
   ]
  },
  {
   "cell_type": "code",
   "execution_count": 100,
   "metadata": {},
   "outputs": [],
   "source": [
    "def error(func, x0, t0, tf):\n",
    "    # N + 0.000001 to satisfy no division by 0 if t0=0?\n",
    "    N=np.linspace(t0+0.000001, tf, 101)\n",
    "    h=np.zeros(np.size(N))\n",
    "    sol_E=np.zeros(np.size(N))\n",
    "    sol_RK4=np.zeros(np.size(N))\n",
    "    exact_sol=np.zeros(np.size(N))\n",
    "    error_E=np.zeros(np.size(N))\n",
    "    error_RK4=np.zeros(np.size(N))\n",
    "       \n",
    "    for i in range (np.size(N)):\n",
    "        \n",
    "        h[i]=(tf-t0)/(N[i])\n",
    "        \n",
    "        #add in analytical solution here\n",
    "        exact_sol[i]=np.exp(1)\n",
    "        sol_E[i]=solve_ode(euler_step, func, x0, t0, tf, h[i])[-1,1]\n",
    "        sol_RK4[i]=solve_ode(RK4, func, x0, t0, tf,h[i])[-1,1]\n",
    "        error_E[i]=abs(exact_sol[i]-sol_E[i])\n",
    "        error_RK4[i]=abs(exact_sol[i]-sol_RK4[i])\n",
    "        \n",
    "    return np.array((h, error_E, error_RK4))"
   ]
  },
  {
   "cell_type": "code",
   "execution_count": 103,
   "metadata": {
    "scrolled": true
   },
   "outputs": [
    {
     "name": "stdout",
     "output_type": "stream",
     "text": [
      "[ 3.28171817  3.28171817  3.28171817  3.28171817  3.28171817  3.28171817\n",
      "  3.28171817  3.28171817  3.28171817  3.28171817  3.28171817  3.28171817\n",
      "  3.28171817  3.28171817  3.28171817  3.28171817  3.28171817  3.28171817\n",
      "  3.28171817  3.28171817  3.28173817  4.41552123  5.34784706  6.11726768\n",
      "  6.75394919  7.28172537  7.71959389  8.08282039  8.38376292  8.63249426\n",
      "  8.83727632  9.00492525  9.14109483  9.25049817  9.3370825   9.40416791\n",
      "  9.45455823  9.49063016  9.51440538  9.52760914  9.5317313  10.55092162\n",
      " 11.43419504 12.19918009 12.86098877 13.43261564 13.92526711 14.34863428\n",
      " 14.7111198  15.02002739 15.28172057 15.50175617 15.68499696 15.83570697\n",
      " 15.9576324  16.05407055 16.12792864 16.18177417 16.21787815 16.2382523\n",
      " 16.24468904 17.1748139  17.99795682 18.7252008  19.36639352 19.9302986\n",
      " 20.42472662 20.8566488  21.23229571 21.55724343 21.83648857 22.07451398\n",
      " 22.27534631 22.44260645 22.57955395 22.68912606 22.77397227 22.83648467\n",
      " 22.87882496 22.90294829 22.91062798 23.75377619 24.50899195 25.18401834\n",
      " 25.78587696 26.32094124 26.79500158 27.21332339 27.58069882 27.90149289\n",
      " 28.17968478 28.41890473 28.62246709 28.79340003 28.93447212 29.0482163\n",
      " 29.13695138 29.20280149 29.24771353 29.27347298 29.28171817]\n"
     ]
    }
   ],
   "source": [
    "#why is the last value of exact_sol always 0?\n",
    "print(error(f, x0, t0, tf)[1])"
   ]
  },
  {
   "cell_type": "code",
   "execution_count": 105,
   "metadata": {},
   "outputs": [
    {
     "data": {
      "image/png": "[encoded data removed]",
      "text/plain": [
       "<Figure size 432x288 with 1 Axes>"
      ]
     },
     "metadata": {
      "needs_background": "light"
     },
     "output_type": "display_data"
    }
   ],
   "source": [
    "delta_h=error(f, x0, t0, tf)[:,0]\n",
    "error_E=error(f, x0, t0, tf)[:,1]\n",
    "error_RK4=error(f, x0, t0, tf)[:,2]\n",
    "\n",
    "plt.plot(delta_h, error_E, delta_h, error_RK4)\n",
    "plt.xscale(\"log\")\n",
    "plt.yscale(\"log\")\n",
    "plt.xlabel('log h')\n",
    "plt.ylabel('log error')\n",
    "plt.legend(('Euler', 'RK4'))\n",
    "plt.title('Error in timestep')\n",
    "plt.show()"
   ]
  },
  {
   "cell_type": "code",
   "execution_count": null,
   "metadata": {},
   "outputs": [],
   "source": [
    "def f2(t,z):\n",
    "    z=[y,v]\n",
    "    dydt=z[1]\n",
    "    dvdt=-z[0]\n",
    "    return np.array((dydt, dvdt))"
   ]
  }
 ],
 "metadata": {
  "kernelspec": {
   "display_name": "Python 3",
   "language": "python",
   "name": "python3"
  },
  "language_info": {
   "codemirror_mode": {
    "name": "ipython",
    "version": 3
   },
   "file_extension": ".py",
   "mimetype": "text/x-python",
   "name": "python",
   "nbconvert_exporter": "python",
   "pygments_lexer": "ipython3",
   "version": "3.8.5"
  }
 },
 "nbformat": 4,
 "nbformat_minor": 4
}
