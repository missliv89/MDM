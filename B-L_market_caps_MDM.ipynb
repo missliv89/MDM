{
 "cells": [
  {
   "cell_type": "code",
   "execution_count": 1,
   "metadata": {},
   "outputs": [],
   "source": [
    "import numpy as np\n",
    "import pandas as pd\n",
    "from numpy.linalg import inv"
   ]
  },
  {
   "cell_type": "code",
   "execution_count": 2,
   "metadata": {},
   "outputs": [],
   "source": [
    "#read in the csv data files containing historic return data for the universe of asset \n",
    "#classes I am planning to include in my global portfolio, along with data regarding the \n",
    "#market capitalisation based weights of each\n",
    "\n",
    "asset_returns_orig = pd.read_csv('return_export.csv', index_col='Date', parse_dates=True)\n",
    "asset_weights = pd.read_csv('asset_weights.csv', index_col='asset_class')\n",
    "cols = ['SP500','US1.3.Year','US7.10.Year',\n",
    "            'US20.Year', 'Broad.Commodity', 'Aggregated.Bonds','IG.Corporate']\n",
    "\n",
    "asset_returns = asset_returns_orig[cols]\n",
    "asset_weights = asset_weights.loc[cols]"
   ]
  },
  {
   "cell_type": "code",
   "execution_count": 3,
   "metadata": {},
   "outputs": [
    {
     "name": "stdout",
     "output_type": "stream",
     "text": [
      "                  weight\n",
      "asset_class             \n",
      "SP500             0.6180\n",
      "US1.3.Year        0.0028\n",
      "US7.10.Year       0.0014\n",
      "US20.Year         0.0075\n",
      "Broad.Commodity   0.1590\n",
      "Aggregated.Bonds  0.1120\n",
      "IG.Corporate      0.0993\n",
      "The global market mean return is 0.0001 and the variance is 8.09305e-05\n",
      "The risk aversion parameter is 1.60\n"
     ]
    }
   ],
   "source": [
    "#mean return and variance of the global market portfolio\n",
    "\n",
    "cov = asset_returns.cov()\n",
    "print(asset_weights)\n",
    "global_return = asset_returns.mean().multiply(asset_weights['weight'].values).sum()\n",
    "market_var = np.matmul(asset_weights.values.reshape(len(asset_weights)).T,\n",
    "                                       np.matmul(cov.values, asset_weights.values.reshape(len(asset_weights))))\n",
    "print(f'The global market mean return is {global_return:.4f} and the variance is {market_var:.6}')\n",
    "\n",
    "US13mean = asset_returns_orig[cols[1]].mean()\n",
    "#global_return- mean(US1.3Year)\n",
    "risk_aversion = (global_return) / market_var\n",
    "print(f'The risk aversion parameter is {risk_aversion:.2f}')"
   ]
  },
  {
   "cell_type": "code",
   "execution_count": 4,
   "metadata": {},
   "outputs": [
    {
     "data": {
      "text/plain": [
       "SP500               1.701371e-04\n",
       "US1.3.Year         -3.534679e-06\n",
       "US7.10.Year        -2.038201e-05\n",
       "US20.Year          -4.682720e-05\n",
       "Broad.Commodity     1.436582e-04\n",
       "Aggregated.Bonds   -2.698193e-07\n",
       "IG.Corporate        1.723401e-05\n",
       "Name: weight, dtype: float64"
      ]
     },
     "execution_count": 4,
     "metadata": {},
     "output_type": "execute_result"
    }
   ],
   "source": [
    "#function which will help us reverse engineer the weights of a portfolio to obtain the Implied Equilibrium Return Vector.\n",
    "\n",
    "def implied_rets(risk_aversion, sigma, w):\n",
    "    \n",
    "    implied_rets = risk_aversion * sigma.dot(w).squeeze()\n",
    "    \n",
    "    return implied_rets\n",
    "implied_equilibrium_returns = implied_rets(risk_aversion, cov, asset_weights)\n",
    "implied_equilibrium_returns"
   ]
  },
  {
   "cell_type": "code",
   "execution_count": 5,
   "metadata": {},
   "outputs": [],
   "source": [
    "P = np.array(\n",
    "    [\n",
    "        [1, 0, 0, 0, 0, 0,0],\n",
    "        [0, 1, -1, 0, 0, 0,0],\n",
    "        [0, 0, 0, -0.6, -0.4, 0.53,0.47]\n",
    "    ]\n",
    ")"
   ]
  },
  {
   "cell_type": "code",
   "execution_count": 6,
   "metadata": {},
   "outputs": [
    {
     "name": "stdout",
     "output_type": "stream",
     "text": [
      "The Variance of View 1 Portfolio is 0.00014972375581838123, and the standard deviation is 0.012\n",
      " The Variance of View 2 Portfolio is 1.2289246069080731e-05, and the standard deviation is 0.004\n",
      " The Variance of View 3 Portfolio is 3.5068777350233496e-05, and the standard deviation is 0.006\n"
     ]
    }
   ],
   "source": [
    "#variance of each individual portfolio view\n",
    "\n",
    "view1_var = np.matmul(P[0].reshape(len(P[0])),np.matmul(cov.values, P[0].reshape(len(P[0])).T))\n",
    "view2_var = np.matmul(P[1].reshape(len(P[1])),np.matmul(cov.values, P[1].reshape(len(P[1])).T))\n",
    "view3_var = np.matmul(P[2].reshape(len(P[2])),np.matmul(cov.values, P[2].reshape(len(P[2])).T))\n",
    "print(f'The Variance of View 1 Portfolio is {view1_var}, and the standard deviation is {np.sqrt(view1_var):.3f}\\n',\\\n",
    "      f'The Variance of View 2 Portfolio is {view2_var}, and the standard deviation is {np.sqrt(view2_var):.3f}\\n',\\\n",
    "      f'The Variance of View 3 Portfolio is {view3_var}, and the standard deviation is {np.sqrt(view3_var):.3f}')"
   ]
  },
  {
   "cell_type": "code",
   "execution_count": 7,
   "metadata": {},
   "outputs": [],
   "source": [
    "#covariance matrix of the error term-omega matrix\n",
    "\n",
    "def error_cov_matrix(sigma, tau, P):\n",
    "    matrix = np.diag(np.diag(P.dot(tau * cov).dot(P.T)))\n",
    "    return matrix\n",
    "\n",
    "tau = 0.1\n",
    "omega = error_cov_matrix(cov, tau, P)\n"
   ]
  },
  {
   "cell_type": "code",
   "execution_count": 8,
   "metadata": {},
   "outputs": [],
   "source": [
    "#independant variable to change\n",
    "Q = [0, 0, 0]"
   ]
  },
  {
   "cell_type": "code",
   "execution_count": 9,
   "metadata": {},
   "outputs": [],
   "source": [
    "#view based returns vector\n",
    "sigma_scaled = cov * tau\n",
    "BL_return_vector = implied_equilibrium_returns + sigma_scaled.dot(P.T).dot(inv(P.dot(sigma_scaled).dot(P.T) + omega).dot(Q - P.dot(implied_equilibrium_returns)))   "
   ]
  },
  {
   "cell_type": "code",
   "execution_count": 10,
   "metadata": {},
   "outputs": [
    {
     "data": {
      "text/html": [
       "<style  type=\"text/css\" >\n",
       "</style><table id=\"T_30db01e4_8e23_11eb_848e_0c84dcd870d9\" ><thead>    <tr>        <th class=\"blank level0\" ></th>        <th class=\"col_heading level0 col0\" >Implied Returns</th>        <th class=\"col_heading level0 col1\" >BL Return Vector</th>        <th class=\"col_heading level0 col2\" >Difference</th>    </tr></thead><tbody>\n",
       "                <tr>\n",
       "                        <th id=\"T_30db01e4_8e23_11eb_848e_0c84dcd870d9level0_row0\" class=\"row_heading level0 row0\" >SP500</th>\n",
       "                        <td id=\"T_30db01e4_8e23_11eb_848e_0c84dcd870d9row0_col0\" class=\"data row0 col0\" >0.0170%</td>\n",
       "                        <td id=\"T_30db01e4_8e23_11eb_848e_0c84dcd870d9row0_col1\" class=\"data row0 col1\" >0.0081%</td>\n",
       "                        <td id=\"T_30db01e4_8e23_11eb_848e_0c84dcd870d9row0_col2\" class=\"data row0 col2\" >-0.0089%</td>\n",
       "            </tr>\n",
       "            <tr>\n",
       "                        <th id=\"T_30db01e4_8e23_11eb_848e_0c84dcd870d9level0_row1\" class=\"row_heading level0 row1\" >US1.3.Year</th>\n",
       "                        <td id=\"T_30db01e4_8e23_11eb_848e_0c84dcd870d9row1_col0\" class=\"data row1 col0\" >-0.0004%</td>\n",
       "                        <td id=\"T_30db01e4_8e23_11eb_848e_0c84dcd870d9row1_col1\" class=\"data row1 col1\" >-0.0001%</td>\n",
       "                        <td id=\"T_30db01e4_8e23_11eb_848e_0c84dcd870d9row1_col2\" class=\"data row1 col2\" >0.0003%</td>\n",
       "            </tr>\n",
       "            <tr>\n",
       "                        <th id=\"T_30db01e4_8e23_11eb_848e_0c84dcd870d9level0_row2\" class=\"row_heading level0 row2\" >US7.10.Year</th>\n",
       "                        <td id=\"T_30db01e4_8e23_11eb_848e_0c84dcd870d9row2_col0\" class=\"data row2 col0\" >-0.0020%</td>\n",
       "                        <td id=\"T_30db01e4_8e23_11eb_848e_0c84dcd870d9row2_col1\" class=\"data row2 col1\" >-0.0005%</td>\n",
       "                        <td id=\"T_30db01e4_8e23_11eb_848e_0c84dcd870d9row2_col2\" class=\"data row2 col2\" >0.0015%</td>\n",
       "            </tr>\n",
       "            <tr>\n",
       "                        <th id=\"T_30db01e4_8e23_11eb_848e_0c84dcd870d9level0_row3\" class=\"row_heading level0 row3\" >US20.Year</th>\n",
       "                        <td id=\"T_30db01e4_8e23_11eb_848e_0c84dcd870d9row3_col0\" class=\"data row3 col0\" >-0.0047%</td>\n",
       "                        <td id=\"T_30db01e4_8e23_11eb_848e_0c84dcd870d9row3_col1\" class=\"data row3 col1\" >-0.0015%</td>\n",
       "                        <td id=\"T_30db01e4_8e23_11eb_848e_0c84dcd870d9row3_col2\" class=\"data row3 col2\" >0.0031%</td>\n",
       "            </tr>\n",
       "            <tr>\n",
       "                        <th id=\"T_30db01e4_8e23_11eb_848e_0c84dcd870d9level0_row4\" class=\"row_heading level0 row4\" >Broad.Commodity</th>\n",
       "                        <td id=\"T_30db01e4_8e23_11eb_848e_0c84dcd870d9row4_col0\" class=\"data row4 col0\" >0.0144%</td>\n",
       "                        <td id=\"T_30db01e4_8e23_11eb_848e_0c84dcd870d9row4_col1\" class=\"data row4 col1\" >0.0073%</td>\n",
       "                        <td id=\"T_30db01e4_8e23_11eb_848e_0c84dcd870d9row4_col2\" class=\"data row4 col2\" >-0.0070%</td>\n",
       "            </tr>\n",
       "            <tr>\n",
       "                        <th id=\"T_30db01e4_8e23_11eb_848e_0c84dcd870d9level0_row5\" class=\"row_heading level0 row5\" >Aggregated.Bonds</th>\n",
       "                        <td id=\"T_30db01e4_8e23_11eb_848e_0c84dcd870d9row5_col0\" class=\"data row5 col0\" >-0.0000%</td>\n",
       "                        <td id=\"T_30db01e4_8e23_11eb_848e_0c84dcd870d9row5_col1\" class=\"data row5 col1\" >0.0004%</td>\n",
       "                        <td id=\"T_30db01e4_8e23_11eb_848e_0c84dcd870d9row5_col2\" class=\"data row5 col2\" >0.0005%</td>\n",
       "            </tr>\n",
       "            <tr>\n",
       "                        <th id=\"T_30db01e4_8e23_11eb_848e_0c84dcd870d9level0_row6\" class=\"row_heading level0 row6\" >IG.Corporate</th>\n",
       "                        <td id=\"T_30db01e4_8e23_11eb_848e_0c84dcd870d9row6_col0\" class=\"data row6 col0\" >0.0017%</td>\n",
       "                        <td id=\"T_30db01e4_8e23_11eb_848e_0c84dcd870d9row6_col1\" class=\"data row6 col1\" >0.0017%</td>\n",
       "                        <td id=\"T_30db01e4_8e23_11eb_848e_0c84dcd870d9row6_col2\" class=\"data row6 col2\" >-0.0001%</td>\n",
       "            </tr>\n",
       "    </tbody></table>"
      ],
      "text/plain": [
       "<pandas.io.formats.style.Styler at 0x2519b7b14c0>"
      ]
     },
     "execution_count": 10,
     "metadata": {},
     "output_type": "execute_result"
    }
   ],
   "source": [
    "#compare the new return vector with the original Implied Return Vector below\n",
    "\n",
    "returns_table = pd.concat([implied_equilibrium_returns, BL_return_vector], axis=1) * 100\n",
    "returns_table.columns = ['Implied Returns', 'BL Return Vector']\n",
    "returns_table['Difference'] = returns_table['BL Return Vector'] - returns_table['Implied Returns']\n",
    "\n",
    "returns_table.style.format('{:,.4f}%')"
   ]
  },
  {
   "cell_type": "code",
   "execution_count": 11,
   "metadata": {},
   "outputs": [],
   "source": [
    "#calculate the new Black Litterman based weights vector\n",
    "inverse_cov = pd.DataFrame(inv(cov.values), index=cov.columns, columns=cov.index)\n",
    "BL_weights_vector = inverse_cov.dot(BL_return_vector)\n",
    "BL_weights_vector = BL_weights_vector/sum(BL_weights_vector)"
   ]
  },
  {
   "cell_type": "code",
   "execution_count": 12,
   "metadata": {},
   "outputs": [],
   "source": [
    "#We compare the new weights vector with the original Market Cap Weights below and the Mean-Variance optimised weights\n",
    "\n",
    "MV_weights_vector = inverse_cov.dot(asset_returns.mean())\n",
    "MV_weights_vector = MV_weights_vector/sum(MV_weights_vector)\n",
    "weights_table = pd.concat([BL_weights_vector, asset_weights, MV_weights_vector], axis=1) * 100\n",
    "weights_table.columns = ['BL Weights', 'Market Cap Weights', 'Mean-Var Weights']\n",
    "weights_table['BL/Mkt Cap Diff'] = weights_table['BL Weights'] - weights_table['Market Cap Weights']"
   ]
  },
  {
   "cell_type": "code",
   "execution_count": 13,
   "metadata": {
    "scrolled": false
   },
   "outputs": [
    {
     "data": {
      "text/html": [
       "<style  type=\"text/css\" >\n",
       "</style><table id=\"T_3101d88f_8e23_11eb_b7ef_0c84dcd870d9\" ><thead>    <tr>        <th class=\"blank level0\" ></th>        <th class=\"col_heading level0 col0\" >BL Weights</th>        <th class=\"col_heading level0 col1\" >Market Cap Weights</th>        <th class=\"col_heading level0 col2\" >Mean-Var Weights</th>        <th class=\"col_heading level0 col3\" >BL/Mkt Cap Diff</th>    </tr>    <tr>        <th class=\"index_name level0\" >asset_class</th>        <th class=\"blank\" ></th>        <th class=\"blank\" ></th>        <th class=\"blank\" ></th>        <th class=\"blank\" ></th>    </tr></thead><tbody>\n",
       "                <tr>\n",
       "                        <th id=\"T_3101d88f_8e23_11eb_b7ef_0c84dcd870d9level0_row0\" class=\"row_heading level0 row0\" >SP500</th>\n",
       "                        <td id=\"T_3101d88f_8e23_11eb_b7ef_0c84dcd870d9row0_col0\" class=\"data row0 col0\" >42.12%</td>\n",
       "                        <td id=\"T_3101d88f_8e23_11eb_b7ef_0c84dcd870d9row0_col1\" class=\"data row0 col1\" >61.80%</td>\n",
       "                        <td id=\"T_3101d88f_8e23_11eb_b7ef_0c84dcd870d9row0_col2\" class=\"data row0 col2\" >47.72%</td>\n",
       "                        <td id=\"T_3101d88f_8e23_11eb_b7ef_0c84dcd870d9row0_col3\" class=\"data row0 col3\" >-19.68%</td>\n",
       "            </tr>\n",
       "            <tr>\n",
       "                        <th id=\"T_3101d88f_8e23_11eb_b7ef_0c84dcd870d9level0_row1\" class=\"row_heading level0 row1\" >US1.3.Year</th>\n",
       "                        <td id=\"T_3101d88f_8e23_11eb_b7ef_0c84dcd870d9row1_col0\" class=\"data row1 col0\" >-33.31%</td>\n",
       "                        <td id=\"T_3101d88f_8e23_11eb_b7ef_0c84dcd870d9row1_col1\" class=\"data row1 col1\" >0.28%</td>\n",
       "                        <td id=\"T_3101d88f_8e23_11eb_b7ef_0c84dcd870d9row1_col2\" class=\"data row1 col2\" >21.24%</td>\n",
       "                        <td id=\"T_3101d88f_8e23_11eb_b7ef_0c84dcd870d9row1_col3\" class=\"data row1 col3\" >-33.59%</td>\n",
       "            </tr>\n",
       "            <tr>\n",
       "                        <th id=\"T_3101d88f_8e23_11eb_b7ef_0c84dcd870d9level0_row2\" class=\"row_heading level0 row2\" >US7.10.Year</th>\n",
       "                        <td id=\"T_3101d88f_8e23_11eb_b7ef_0c84dcd870d9row2_col0\" class=\"data row2 col0\" >33.95%</td>\n",
       "                        <td id=\"T_3101d88f_8e23_11eb_b7ef_0c84dcd870d9row2_col1\" class=\"data row2 col1\" >0.14%</td>\n",
       "                        <td id=\"T_3101d88f_8e23_11eb_b7ef_0c84dcd870d9row2_col2\" class=\"data row2 col2\" >121.68%</td>\n",
       "                        <td id=\"T_3101d88f_8e23_11eb_b7ef_0c84dcd870d9row2_col3\" class=\"data row2 col3\" >33.81%</td>\n",
       "            </tr>\n",
       "            <tr>\n",
       "                        <th id=\"T_3101d88f_8e23_11eb_b7ef_0c84dcd870d9level0_row3\" class=\"row_heading level0 row3\" >US20.Year</th>\n",
       "                        <td id=\"T_3101d88f_8e23_11eb_b7ef_0c84dcd870d9row3_col0\" class=\"data row3 col0\" >-14.79%</td>\n",
       "                        <td id=\"T_3101d88f_8e23_11eb_b7ef_0c84dcd870d9row3_col1\" class=\"data row3 col1\" >0.75%</td>\n",
       "                        <td id=\"T_3101d88f_8e23_11eb_b7ef_0c84dcd870d9row3_col2\" class=\"data row3 col2\" >-10.18%</td>\n",
       "                        <td id=\"T_3101d88f_8e23_11eb_b7ef_0c84dcd870d9row3_col3\" class=\"data row3 col3\" >-15.54%</td>\n",
       "            </tr>\n",
       "            <tr>\n",
       "                        <th id=\"T_3101d88f_8e23_11eb_b7ef_0c84dcd870d9level0_row4\" class=\"row_heading level0 row4\" >Broad.Commodity</th>\n",
       "                        <td id=\"T_3101d88f_8e23_11eb_b7ef_0c84dcd870d9row4_col0\" class=\"data row4 col0\" >13.48%</td>\n",
       "                        <td id=\"T_3101d88f_8e23_11eb_b7ef_0c84dcd870d9row4_col1\" class=\"data row4 col1\" >15.90%</td>\n",
       "                        <td id=\"T_3101d88f_8e23_11eb_b7ef_0c84dcd870d9row4_col2\" class=\"data row4 col2\" >-25.48%</td>\n",
       "                        <td id=\"T_3101d88f_8e23_11eb_b7ef_0c84dcd870d9row4_col3\" class=\"data row4 col3\" >-2.42%</td>\n",
       "            </tr>\n",
       "            <tr>\n",
       "                        <th id=\"T_3101d88f_8e23_11eb_b7ef_0c84dcd870d9level0_row5\" class=\"row_heading level0 row5\" >Aggregated.Bonds</th>\n",
       "                        <td id=\"T_3101d88f_8e23_11eb_b7ef_0c84dcd870d9row5_col0\" class=\"data row5 col0\" >31.04%</td>\n",
       "                        <td id=\"T_3101d88f_8e23_11eb_b7ef_0c84dcd870d9row5_col1\" class=\"data row5 col1\" >11.20%</td>\n",
       "                        <td id=\"T_3101d88f_8e23_11eb_b7ef_0c84dcd870d9row5_col2\" class=\"data row5 col2\" >-32.95%</td>\n",
       "                        <td id=\"T_3101d88f_8e23_11eb_b7ef_0c84dcd870d9row5_col3\" class=\"data row5 col3\" >19.84%</td>\n",
       "            </tr>\n",
       "            <tr>\n",
       "                        <th id=\"T_3101d88f_8e23_11eb_b7ef_0c84dcd870d9level0_row6\" class=\"row_heading level0 row6\" >IG.Corporate</th>\n",
       "                        <td id=\"T_3101d88f_8e23_11eb_b7ef_0c84dcd870d9row6_col0\" class=\"data row6 col0\" >27.52%</td>\n",
       "                        <td id=\"T_3101d88f_8e23_11eb_b7ef_0c84dcd870d9row6_col1\" class=\"data row6 col1\" >9.93%</td>\n",
       "                        <td id=\"T_3101d88f_8e23_11eb_b7ef_0c84dcd870d9row6_col2\" class=\"data row6 col2\" >-22.03%</td>\n",
       "                        <td id=\"T_3101d88f_8e23_11eb_b7ef_0c84dcd870d9row6_col3\" class=\"data row6 col3\" >17.59%</td>\n",
       "            </tr>\n",
       "    </tbody></table>"
      ],
      "text/plain": [
       "<pandas.io.formats.style.Styler at 0x2519e9d21f0>"
      ]
     },
     "execution_count": 13,
     "metadata": {},
     "output_type": "execute_result"
    }
   ],
   "source": [
    "weights_table.style.format('{:,.2f}%')"
   ]
  },
  {
   "cell_type": "code",
   "execution_count": 14,
   "metadata": {},
   "outputs": [],
   "source": [
    "#SP500 BL/Mkt Cap Diff for x=value\n",
    "A1=weights_table['BL/Mkt Cap Diff'][0]\n",
    "A2=weights_table['BL/Mkt Cap Diff'][1]\n",
    "A3=weights_table['BL/Mkt Cap Diff'][2]\n",
    "A4=weights_table['BL/Mkt Cap Diff'][3]\n",
    "A5=weights_table['BL/Mkt Cap Diff'][4]\n",
    "A6=weights_table['BL/Mkt Cap Diff'][5]\n",
    "A7=weights_table['BL/Mkt Cap Diff'][6]"
   ]
  },
  {
   "cell_type": "code",
   "execution_count": 15,
   "metadata": {},
   "outputs": [
    {
     "name": "stdout",
     "output_type": "stream",
     "text": [
      "-19.682687458472813 , -33.592131333911865 , 33.808537845238654 , -15.535260441234271 , -2.4219348789616095 , 19.835009200649438 , 17.58846706669247\n"
     ]
    }
   ],
   "source": [
    "print(A1,',',A2,',',A3,',',A4,',',A5,',',A6, ',', A7)"
   ]
  },
  {
   "cell_type": "code",
   "execution_count": null,
   "metadata": {},
   "outputs": [],
   "source": []
  }
 ],
 "metadata": {
  "kernelspec": {
   "display_name": "Python 3",
   "language": "python",
   "name": "python3"
  },
  "language_info": {
   "codemirror_mode": {
    "name": "ipython",
    "version": 3
   },
   "file_extension": ".py",
   "mimetype": "text/x-python",
   "name": "python",
   "nbconvert_exporter": "python",
   "pygments_lexer": "ipython3",
   "version": "3.8.5"
  }
 },
 "nbformat": 4,
 "nbformat_minor": 4
}
