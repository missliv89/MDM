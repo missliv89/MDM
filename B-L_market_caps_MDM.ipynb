{
 "cells": [
  {
   "cell_type": "code",
   "execution_count": 1,
   "metadata": {},
   "outputs": [],
   "source": [
    "import numpy as np\n",
    "import pandas as pd\n",
    "from numpy.linalg import inv"
   ]
  },
  {
   "cell_type": "code",
   "execution_count": 2,
   "metadata": {},
   "outputs": [],
   "source": [
    "#read in the csv data files containing historic return data for the universe of asset \n",
    "#classes I am planning to include in my global portfolio, along with data regarding the \n",
    "#market capitalisation based weights of each\n",
    "\n",
    "asset_returns_orig = pd.read_csv('return_export.csv', index_col='Date', parse_dates=True)\n",
    "asset_weights = pd.read_csv('asset_weights.csv', index_col='asset_class')\n",
    "cols = ['SP500','US1.3.Year','US7.10.Year',\n",
    "            'US20.Year','Aggregated.Bonds','IG.Corporate']\n",
    "\n",
    "asset_returns = asset_returns_orig[cols]\n",
    "asset_weights = asset_weights.loc[cols]"
   ]
  },
  {
   "cell_type": "code",
   "execution_count": 3,
   "metadata": {},
   "outputs": [
    {
     "name": "stdout",
     "output_type": "stream",
     "text": [
      "                  weight\n",
      "asset_class             \n",
      "SP500              0.162\n",
      "US1.3.Year         0.163\n",
      "US7.10.Year        0.022\n",
      "US20.Year          0.022\n",
      "Aggregated.Bonds   0.030\n",
      "IG.Corporate       0.299\n",
      "The global market mean return is 0.0001 and the variance is 7.62403e-06\n",
      "The risk aversion parameter is 8.39\n"
     ]
    }
   ],
   "source": [
    "#mean return and variance of the global market portfolio\n",
    "\n",
    "cov = asset_returns.cov()\n",
    "print(asset_weights)\n",
    "global_return = asset_returns.mean().multiply(asset_weights['weight'].values).sum()\n",
    "market_var = np.matmul(asset_weights.values.reshape(len(asset_weights)).T,\n",
    "                                       np.matmul(cov.values, asset_weights.values.reshape(len(asset_weights))))\n",
    "print(f'The global market mean return is {global_return:.4f} and the variance is {market_var:.6}')\n",
    "risk_aversion = global_return / market_var\n",
    "print(f'The risk aversion parameter is {risk_aversion:.2f}')"
   ]
  },
  {
   "cell_type": "code",
   "execution_count": 4,
   "metadata": {},
   "outputs": [
    {
     "data": {
      "text/plain": [
       "SP500               0.000208\n",
       "US1.3.Year          0.000002\n",
       "US7.10.Year         0.000014\n",
       "US20.Year           0.000024\n",
       "Aggregated.Bonds    0.000032\n",
       "IG.Corporate        0.000094\n",
       "Name: weight, dtype: float64"
      ]
     },
     "execution_count": 4,
     "metadata": {},
     "output_type": "execute_result"
    }
   ],
   "source": [
    "#function which will help us reverse engineer the weights of a portfolio to obtain the Implied Equilibrium Return Vector.\n",
    "\n",
    "def implied_rets(risk_aversion, sigma, w):\n",
    "    \n",
    "    implied_rets = risk_aversion * sigma.dot(w).squeeze()\n",
    "    \n",
    "    return implied_rets\n",
    "implied_equilibrium_returns = implied_rets(risk_aversion, cov, asset_weights)\n",
    "implied_equilibrium_returns"
   ]
  },
  {
   "cell_type": "code",
   "execution_count": 5,
   "metadata": {},
   "outputs": [],
   "source": [
    "#this will differ depending on market cap weights\n",
    "\n",
    "P = np.array(\n",
    "    [\n",
    "        [1, 0, 0, 0, 0, 0],\n",
    "        [0, 1, -1, 0, 0, 0],\n",
    "        [0, 0, 0, -1, 0.5, 0.5]\n",
    "    ]\n",
    ")"
   ]
  },
  {
   "cell_type": "code",
   "execution_count": 6,
   "metadata": {},
   "outputs": [
    {
     "name": "stdout",
     "output_type": "stream",
     "text": [
      "The Variance of View 1 Portfolio is 0.00014972375581838123, and the standard deviation is 0.012\n",
      " The Variance of View 2 Portfolio is 1.2289246069080731e-05, and the standard deviation is 0.004\n",
      " The Variance of View 3 Portfolio is 5.4198410716643216e-05, and the standard deviation is 0.007\n"
     ]
    }
   ],
   "source": [
    "#variance of each individual portfolio view\n",
    "\n",
    "view1_var = np.matmul(P[0].reshape(len(P[0])),np.matmul(cov.values, P[0].reshape(len(P[0])).T))\n",
    "view2_var = np.matmul(P[1].reshape(len(P[1])),np.matmul(cov.values, P[1].reshape(len(P[1])).T))\n",
    "view3_var = np.matmul(P[2].reshape(len(P[2])),np.matmul(cov.values, P[2].reshape(len(P[2])).T))\n",
    "print(f'The Variance of View 1 Portfolio is {view1_var}, and the standard deviation is {np.sqrt(view1_var):.3f}\\n',\\\n",
    "      f'The Variance of View 2 Portfolio is {view2_var}, and the standard deviation is {np.sqrt(view2_var):.3f}\\n',\\\n",
    "      f'The Variance of View 3 Portfolio is {view3_var}, and the standard deviation is {np.sqrt(view3_var):.3f}')"
   ]
  },
  {
   "cell_type": "code",
   "execution_count": 7,
   "metadata": {},
   "outputs": [],
   "source": [
    "#covariance matrix of the error term\n",
    "\n",
    "def error_cov_matrix(sigma, tau, P):\n",
    "    matrix = np.diag(np.diag(P.dot(tau * cov).dot(P.T)))\n",
    "    return matrix\n",
    "\n",
    "tau = 0.1\n",
    "omega = error_cov_matrix(cov, tau, P)\n"
   ]
  },
  {
   "cell_type": "code",
   "execution_count": 79,
   "metadata": {},
   "outputs": [],
   "source": [
    "Q = [1, 0.1, 0.1]"
   ]
  },
  {
   "cell_type": "code",
   "execution_count": 80,
   "metadata": {},
   "outputs": [],
   "source": [
    "#view based returns vector\n",
    "sigma_scaled = cov * tau\n",
    "BL_return_vector = implied_equilibrium_returns + sigma_scaled.dot(P.T).dot(inv(P.dot(sigma_scaled).dot(P.T) + omega).dot(Q - P.dot(implied_equilibrium_returns)))   "
   ]
  },
  {
   "cell_type": "code",
   "execution_count": 81,
   "metadata": {},
   "outputs": [
    {
     "data": {
      "text/html": [
       "<style  type=\"text/css\" >\n",
       "</style><table id=\"T_858a81e4_85b4_11eb_a2e4_0c84dcd870d9\" ><thead>    <tr>        <th class=\"blank level0\" ></th>        <th class=\"col_heading level0 col0\" >Implied Returns</th>        <th class=\"col_heading level0 col1\" >BL Return Vector</th>        <th class=\"col_heading level0 col2\" >Difference</th>    </tr></thead><tbody>\n",
       "                <tr>\n",
       "                        <th id=\"T_858a81e4_85b4_11eb_a2e4_0c84dcd870d9level0_row0\" class=\"row_heading level0 row0\" >SP500</th>\n",
       "                        <td id=\"T_858a81e4_85b4_11eb_a2e4_0c84dcd870d9row0_col0\" class=\"data row0 col0\" >0.0208%</td>\n",
       "                        <td id=\"T_858a81e4_85b4_11eb_a2e4_0c84dcd870d9row0_col1\" class=\"data row0 col1\" >49.7092%</td>\n",
       "                        <td id=\"T_858a81e4_85b4_11eb_a2e4_0c84dcd870d9row0_col2\" class=\"data row0 col2\" >49.6884%</td>\n",
       "            </tr>\n",
       "            <tr>\n",
       "                        <th id=\"T_858a81e4_85b4_11eb_a2e4_0c84dcd870d9level0_row1\" class=\"row_heading level0 row1\" >US1.3.Year</th>\n",
       "                        <td id=\"T_858a81e4_85b4_11eb_a2e4_0c84dcd870d9row1_col0\" class=\"data row1 col0\" >0.0002%</td>\n",
       "                        <td id=\"T_858a81e4_85b4_11eb_a2e4_0c84dcd870d9row1_col1\" class=\"data row1 col1\" >-1.4168%</td>\n",
       "                        <td id=\"T_858a81e4_85b4_11eb_a2e4_0c84dcd870d9row1_col2\" class=\"data row1 col2\" >-1.4170%</td>\n",
       "            </tr>\n",
       "            <tr>\n",
       "                        <th id=\"T_858a81e4_85b4_11eb_a2e4_0c84dcd870d9level0_row2\" class=\"row_heading level0 row2\" >US7.10.Year</th>\n",
       "                        <td id=\"T_858a81e4_85b4_11eb_a2e4_0c84dcd870d9row2_col0\" class=\"data row2 col0\" >0.0014%</td>\n",
       "                        <td id=\"T_858a81e4_85b4_11eb_a2e4_0c84dcd870d9row2_col1\" class=\"data row2 col1\" >-8.1350%</td>\n",
       "                        <td id=\"T_858a81e4_85b4_11eb_a2e4_0c84dcd870d9row2_col2\" class=\"data row2 col2\" >-8.1364%</td>\n",
       "            </tr>\n",
       "            <tr>\n",
       "                        <th id=\"T_858a81e4_85b4_11eb_a2e4_0c84dcd870d9level0_row3\" class=\"row_heading level0 row3\" >US20.Year</th>\n",
       "                        <td id=\"T_858a81e4_85b4_11eb_a2e4_0c84dcd870d9row3_col0\" class=\"data row3 col0\" >0.0024%</td>\n",
       "                        <td id=\"T_858a81e4_85b4_11eb_a2e4_0c84dcd870d9row3_col1\" class=\"data row3 col1\" >-16.5593%</td>\n",
       "                        <td id=\"T_858a81e4_85b4_11eb_a2e4_0c84dcd870d9row3_col2\" class=\"data row3 col2\" >-16.5617%</td>\n",
       "            </tr>\n",
       "            <tr>\n",
       "                        <th id=\"T_858a81e4_85b4_11eb_a2e4_0c84dcd870d9level0_row4\" class=\"row_heading level0 row4\" >Aggregated.Bonds</th>\n",
       "                        <td id=\"T_858a81e4_85b4_11eb_a2e4_0c84dcd870d9row4_col0\" class=\"data row4 col0\" >0.0032%</td>\n",
       "                        <td id=\"T_858a81e4_85b4_11eb_a2e4_0c84dcd870d9row4_col1\" class=\"data row4 col1\" >-2.3973%</td>\n",
       "                        <td id=\"T_858a81e4_85b4_11eb_a2e4_0c84dcd870d9row4_col2\" class=\"data row4 col2\" >-2.4005%</td>\n",
       "            </tr>\n",
       "            <tr>\n",
       "                        <th id=\"T_858a81e4_85b4_11eb_a2e4_0c84dcd870d9level0_row5\" class=\"row_heading level0 row5\" >IG.Corporate</th>\n",
       "                        <td id=\"T_858a81e4_85b4_11eb_a2e4_0c84dcd870d9row5_col0\" class=\"data row5 col0\" >0.0094%</td>\n",
       "                        <td id=\"T_858a81e4_85b4_11eb_a2e4_0c84dcd870d9row5_col1\" class=\"data row5 col1\" >0.7687%</td>\n",
       "                        <td id=\"T_858a81e4_85b4_11eb_a2e4_0c84dcd870d9row5_col2\" class=\"data row5 col2\" >0.7593%</td>\n",
       "            </tr>\n",
       "    </tbody></table>"
      ],
      "text/plain": [
       "<pandas.io.formats.style.Styler at 0x21372a756d0>"
      ]
     },
     "execution_count": 81,
     "metadata": {},
     "output_type": "execute_result"
    }
   ],
   "source": [
    "#compare the new return vector with the original Implied Return Vector below\n",
    "\n",
    "returns_table = pd.concat([implied_equilibrium_returns, BL_return_vector], axis=1) * 100\n",
    "returns_table.columns = ['Implied Returns', 'BL Return Vector']\n",
    "returns_table['Difference'] = returns_table['BL Return Vector'] - returns_table['Implied Returns']\n",
    "\n",
    "returns_table.style.format('{:,.4f}%')"
   ]
  },
  {
   "cell_type": "code",
   "execution_count": 82,
   "metadata": {},
   "outputs": [],
   "source": [
    "#calculate the new Black Litterman based weights vector\n",
    "inverse_cov = pd.DataFrame(inv(cov.values), index=cov.columns, columns=cov.index)\n",
    "BL_weights_vector = inverse_cov.dot(BL_return_vector)\n",
    "BL_weights_vector = BL_weights_vector/sum(BL_weights_vector)"
   ]
  },
  {
   "cell_type": "code",
   "execution_count": 83,
   "metadata": {},
   "outputs": [],
   "source": [
    "#We compare the new weights vector with the original Market Cap Weights below and the Mean-Variance optimised weights\n",
    "\n",
    "MV_weights_vector = inverse_cov.dot(asset_returns.mean())\n",
    "MV_weights_vector = MV_weights_vector/sum(MV_weights_vector)\n",
    "weights_table = pd.concat([BL_weights_vector, asset_weights, MV_weights_vector], axis=1) * 100\n",
    "weights_table.columns = ['BL Weights', 'Market Cap Weights', 'Mean-Var Weights']\n",
    "weights_table['BL/Mkt Cap Diff'] = weights_table['BL Weights'] - weights_table['Market Cap Weights']"
   ]
  },
  {
   "cell_type": "code",
   "execution_count": 84,
   "metadata": {},
   "outputs": [
    {
     "data": {
      "text/html": [
       "<style  type=\"text/css\" >\n",
       "</style><table id=\"T_8684d3f1_85b4_11eb_9578_0c84dcd870d9\" ><thead>    <tr>        <th class=\"blank level0\" ></th>        <th class=\"col_heading level0 col0\" >BL Weights</th>        <th class=\"col_heading level0 col1\" >Market Cap Weights</th>        <th class=\"col_heading level0 col2\" >Mean-Var Weights</th>        <th class=\"col_heading level0 col3\" >BL/Mkt Cap Diff</th>    </tr>    <tr>        <th class=\"index_name level0\" >asset_class</th>        <th class=\"blank\" ></th>        <th class=\"blank\" ></th>        <th class=\"blank\" ></th>        <th class=\"blank\" ></th>    </tr></thead><tbody>\n",
       "                <tr>\n",
       "                        <th id=\"T_8684d3f1_85b4_11eb_9578_0c84dcd870d9level0_row0\" class=\"row_heading level0 row0\" >SP500</th>\n",
       "                        <td id=\"T_8684d3f1_85b4_11eb_9578_0c84dcd870d9row0_col0\" class=\"data row0 col0\" >99.87%</td>\n",
       "                        <td id=\"T_8684d3f1_85b4_11eb_9578_0c84dcd870d9row0_col1\" class=\"data row0 col1\" >16.20%</td>\n",
       "                        <td id=\"T_8684d3f1_85b4_11eb_9578_0c84dcd870d9row0_col2\" class=\"data row0 col2\" >40.47%</td>\n",
       "                        <td id=\"T_8684d3f1_85b4_11eb_9578_0c84dcd870d9row0_col3\" class=\"data row0 col3\" >83.67%</td>\n",
       "            </tr>\n",
       "            <tr>\n",
       "                        <th id=\"T_8684d3f1_85b4_11eb_9578_0c84dcd870d9level0_row1\" class=\"row_heading level0 row1\" >US1.3.Year</th>\n",
       "                        <td id=\"T_8684d3f1_85b4_11eb_9578_0c84dcd870d9row1_col0\" class=\"data row1 col0\" >79.41%</td>\n",
       "                        <td id=\"T_8684d3f1_85b4_11eb_9578_0c84dcd870d9row1_col1\" class=\"data row1 col1\" >16.30%</td>\n",
       "                        <td id=\"T_8684d3f1_85b4_11eb_9578_0c84dcd870d9row1_col2\" class=\"data row1 col2\" >-3.13%</td>\n",
       "                        <td id=\"T_8684d3f1_85b4_11eb_9578_0c84dcd870d9row1_col3\" class=\"data row1 col3\" >63.11%</td>\n",
       "            </tr>\n",
       "            <tr>\n",
       "                        <th id=\"T_8684d3f1_85b4_11eb_9578_0c84dcd870d9level0_row2\" class=\"row_heading level0 row2\" >US7.10.Year</th>\n",
       "                        <td id=\"T_8684d3f1_85b4_11eb_9578_0c84dcd870d9row2_col0\" class=\"data row2 col0\" >-79.36%</td>\n",
       "                        <td id=\"T_8684d3f1_85b4_11eb_9578_0c84dcd870d9row2_col1\" class=\"data row2 col1\" >2.20%</td>\n",
       "                        <td id=\"T_8684d3f1_85b4_11eb_9578_0c84dcd870d9row2_col2\" class=\"data row2 col2\" >141.33%</td>\n",
       "                        <td id=\"T_8684d3f1_85b4_11eb_9578_0c84dcd870d9row2_col3\" class=\"data row2 col3\" >-81.56%</td>\n",
       "            </tr>\n",
       "            <tr>\n",
       "                        <th id=\"T_8684d3f1_85b4_11eb_9578_0c84dcd870d9level0_row3\" class=\"row_heading level0 row3\" >US20.Year</th>\n",
       "                        <td id=\"T_8684d3f1_85b4_11eb_9578_0c84dcd870d9row3_col0\" class=\"data row3 col0\" >31.51%</td>\n",
       "                        <td id=\"T_8684d3f1_85b4_11eb_9578_0c84dcd870d9row3_col1\" class=\"data row3 col1\" >2.20%</td>\n",
       "                        <td id=\"T_8684d3f1_85b4_11eb_9578_0c84dcd870d9row3_col2\" class=\"data row3 col2\" >-0.95%</td>\n",
       "                        <td id=\"T_8684d3f1_85b4_11eb_9578_0c84dcd870d9row3_col3\" class=\"data row3 col3\" >29.31%</td>\n",
       "            </tr>\n",
       "            <tr>\n",
       "                        <th id=\"T_8684d3f1_85b4_11eb_9578_0c84dcd870d9level0_row4\" class=\"row_heading level0 row4\" >Aggregated.Bonds</th>\n",
       "                        <td id=\"T_8684d3f1_85b4_11eb_9578_0c84dcd870d9row4_col0\" class=\"data row4 col0\" >-15.74%</td>\n",
       "                        <td id=\"T_8684d3f1_85b4_11eb_9578_0c84dcd870d9row4_col1\" class=\"data row4 col1\" >3.00%</td>\n",
       "                        <td id=\"T_8684d3f1_85b4_11eb_9578_0c84dcd870d9row4_col2\" class=\"data row4 col2\" >-45.59%</td>\n",
       "                        <td id=\"T_8684d3f1_85b4_11eb_9578_0c84dcd870d9row4_col3\" class=\"data row4 col3\" >-18.74%</td>\n",
       "            </tr>\n",
       "            <tr>\n",
       "                        <th id=\"T_8684d3f1_85b4_11eb_9578_0c84dcd870d9level0_row5\" class=\"row_heading level0 row5\" >IG.Corporate</th>\n",
       "                        <td id=\"T_8684d3f1_85b4_11eb_9578_0c84dcd870d9row5_col0\" class=\"data row5 col0\" >-15.68%</td>\n",
       "                        <td id=\"T_8684d3f1_85b4_11eb_9578_0c84dcd870d9row5_col1\" class=\"data row5 col1\" >29.90%</td>\n",
       "                        <td id=\"T_8684d3f1_85b4_11eb_9578_0c84dcd870d9row5_col2\" class=\"data row5 col2\" >-32.14%</td>\n",
       "                        <td id=\"T_8684d3f1_85b4_11eb_9578_0c84dcd870d9row5_col3\" class=\"data row5 col3\" >-45.58%</td>\n",
       "            </tr>\n",
       "    </tbody></table>"
      ],
      "text/plain": [
       "<pandas.io.formats.style.Styler at 0x213729f1490>"
      ]
     },
     "execution_count": 84,
     "metadata": {},
     "output_type": "execute_result"
    }
   ],
   "source": [
    "weights_table.style.format('{:,.2f}%')"
   ]
  },
  {
   "cell_type": "code",
   "execution_count": 85,
   "metadata": {},
   "outputs": [],
   "source": [
    "#SP500 BL/Mkt Cap Diff for x=value\n",
    "A1=weights_table['BL/Mkt Cap Diff'][0]\n",
    "A2=weights_table['BL/Mkt Cap Diff'][1]\n",
    "A3=weights_table['BL/Mkt Cap Diff'][2]\n",
    "A4=weights_table['BL/Mkt Cap Diff'][3]\n",
    "A5=weights_table['BL/Mkt Cap Diff'][4]\n",
    "A6=weights_table['BL/Mkt Cap Diff'][5]"
   ]
  },
  {
   "cell_type": "code",
   "execution_count": 86,
   "metadata": {},
   "outputs": [
    {
     "name": "stdout",
     "output_type": "stream",
     "text": [
      "83.6662745075851 , 63.10721727382004 , -81.56106201990625 , 29.308183574947886 , -18.743862785255764 , -45.57675055119104\n"
     ]
    }
   ],
   "source": [
    "print(A1,',',A2,',',A3,',',A4,',',A5,',',A6)"
   ]
  },
  {
   "cell_type": "code",
   "execution_count": null,
   "metadata": {},
   "outputs": [],
   "source": []
  }
 ],
 "metadata": {
  "kernelspec": {
   "display_name": "Python 3",
   "language": "python",
   "name": "python3"
  },
  "language_info": {
   "codemirror_mode": {
    "name": "ipython",
    "version": 3
   },
   "file_extension": ".py",
   "mimetype": "text/x-python",
   "name": "python",
   "nbconvert_exporter": "python",
   "pygments_lexer": "ipython3",
   "version": "3.8.5"
  }
 },
 "nbformat": 4,
 "nbformat_minor": 4
}
